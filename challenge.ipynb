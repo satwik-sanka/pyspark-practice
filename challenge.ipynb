{
  "nbformat": 4,
  "nbformat_minor": 0,
  "metadata": {
    "colab": {
      "provenance": [],
      "authorship_tag": "ABX9TyOdWuoqbekgMpnrdnAUyD6h",
      "include_colab_link": true
    },
    "kernelspec": {
      "name": "python3",
      "display_name": "Python 3"
    },
    "language_info": {
      "name": "python"
    }
  },
  "cells": [
    {
      "cell_type": "markdown",
      "metadata": {
        "id": "view-in-github",
        "colab_type": "text"
      },
      "source": [
        "<a href=\"https://colab.research.google.com/github/satwik-sanka/pyspark-practice/blob/main/challenge.ipynb\" target=\"_parent\"><img src=\"https://colab.research.google.com/assets/colab-badge.svg\" alt=\"Open In Colab\"/></a>"
      ]
    },
    {
      "cell_type": "code",
      "execution_count": 1,
      "metadata": {
        "colab": {
          "base_uri": "https://localhost:8080/"
        },
        "id": "en7iGmTZA771",
        "outputId": "5dcb948a-6380-4424-ef90-6f6cf2d862fd"
      },
      "outputs": [
        {
          "output_type": "stream",
          "name": "stdout",
          "text": [
            "Get:1 https://cli.github.com/packages stable InRelease [3,917 B]\n",
            "Hit:2 http://archive.ubuntu.com/ubuntu jammy InRelease\n",
            "Get:3 http://archive.ubuntu.com/ubuntu jammy-updates InRelease [128 kB]\n",
            "Get:4 http://security.ubuntu.com/ubuntu jammy-security InRelease [129 kB]\n",
            "Get:5 https://cloud.r-project.org/bin/linux/ubuntu jammy-cran40/ InRelease [3,632 B]\n",
            "Get:6 https://r2u.stat.illinois.edu/ubuntu jammy InRelease [6,555 B]\n",
            "Get:7 https://developer.download.nvidia.com/compute/cuda/repos/ubuntu2204/x86_64  InRelease [1,581 B]\n",
            "Hit:8 https://ppa.launchpadcontent.net/deadsnakes/ppa/ubuntu jammy InRelease\n",
            "Hit:9 https://ppa.launchpadcontent.net/graphics-drivers/ppa/ubuntu jammy InRelease\n",
            "Get:10 http://archive.ubuntu.com/ubuntu jammy-backports InRelease [127 kB]\n",
            "Hit:11 https://ppa.launchpadcontent.net/ubuntugis/ppa/ubuntu jammy InRelease\n",
            "Get:12 https://r2u.stat.illinois.edu/ubuntu jammy/main all Packages [9,373 kB]\n",
            "Get:13 https://developer.download.nvidia.com/compute/cuda/repos/ubuntu2204/x86_64  Packages [2,085 kB]\n",
            "Get:14 https://cli.github.com/packages stable/main amd64 Packages [346 B]\n",
            "Get:15 https://r2u.stat.illinois.edu/ubuntu jammy/main amd64 Packages [2,812 kB]\n",
            "Get:16 http://security.ubuntu.com/ubuntu jammy-security/universe amd64 Packages [1,288 kB]\n",
            "Get:17 http://security.ubuntu.com/ubuntu jammy-security/main amd64 Packages [3,468 kB]\n",
            "Get:18 http://archive.ubuntu.com/ubuntu jammy-updates/main amd64 Packages [3,798 kB]\n",
            "Get:19 http://security.ubuntu.com/ubuntu jammy-security/restricted amd64 Packages [5,851 kB]\n",
            "Get:20 http://archive.ubuntu.com/ubuntu jammy-updates/restricted amd64 Packages [6,050 kB]\n",
            "Get:21 http://archive.ubuntu.com/ubuntu jammy-updates/universe amd64 Packages [1,594 kB]\n",
            "Fetched 36.7 MB in 9s (4,198 kB/s)\n",
            "Reading package lists... Done\n",
            "W: Skipping acquire of configured file 'main/source/Sources' as repository 'https://r2u.stat.illinois.edu/ubuntu jammy InRelease' does not seem to provide it (sources.list entry misspelt?)\n"
          ]
        }
      ],
      "source": [
        "!apt-get update\n",
        "!apt-get install openjdk-8-jdk-headless -qq > /dev/null\n",
        "!rm -rf spark-3.5.1-bin-hadoop3 spark-2.3.1-bin-hadoop2.7 spark-3.3.2-bin-hadoop3\n",
        "!wget -q http://archive.apache.org/dist/spark/spark-3.5.1/spark-3.5.1-bin-hadoop3.tgz\n",
        "!tar xf spark-3.5.1-bin-hadoop3.tgz\n",
        "!pip install -q findspark pyspark py4j\n",
        "\n",
        "import os\n",
        "os.environ[\"JAVA_HOME\"] = \"/usr/lib/jvm/java-8-openjdk-amd64\"\n",
        "os.environ[\"SPARK_HOME\"] = \"/content/spark-3.5.1-bin-hadoop3\"\n",
        "\n",
        "import findspark\n",
        "findspark.init()\n"
      ]
    },
    {
      "cell_type": "code",
      "source": [
        "spark = SparkSession.builder.master(\"local[*]\").getOrCreate()\n",
        "spark"
      ],
      "metadata": {
        "colab": {
          "base_uri": "https://localhost:8080/",
          "height": 216
        },
        "id": "DIvCEkP8Bi_t",
        "outputId": "747953b2-7e0c-44f4-d533-bac9ca84f075"
      },
      "execution_count": 3,
      "outputs": [
        {
          "output_type": "execute_result",
          "data": {
            "text/plain": [
              "<pyspark.sql.session.SparkSession at 0x7d27204e8800>"
            ],
            "text/html": [
              "\n",
              "            <div>\n",
              "                <p><b>SparkSession - in-memory</b></p>\n",
              "                \n",
              "        <div>\n",
              "            <p><b>SparkContext</b></p>\n",
              "\n",
              "            <p><a href=\"http://c7d28dac97ea:4040\">Spark UI</a></p>\n",
              "\n",
              "            <dl>\n",
              "              <dt>Version</dt>\n",
              "                <dd><code>v3.5.1</code></dd>\n",
              "              <dt>Master</dt>\n",
              "                <dd><code>local[*]</code></dd>\n",
              "              <dt>AppName</dt>\n",
              "                <dd><code>pyspark-shell</code></dd>\n",
              "            </dl>\n",
              "        </div>\n",
              "        \n",
              "            </div>\n",
              "        "
            ]
          },
          "metadata": {},
          "execution_count": 3
        }
      ]
    },
    {
      "cell_type": "code",
      "source": [
        "mydata = spark.read.format(\"csv\").option(\"header\", \"true\").load(\"challenge.csv\")"
      ],
      "metadata": {
        "id": "0gOoR-y1Bi87"
      },
      "execution_count": 4,
      "outputs": []
    },
    {
      "cell_type": "code",
      "source": [
        "mydata.show()"
      ],
      "metadata": {
        "colab": {
          "base_uri": "https://localhost:8080/"
        },
        "id": "fxiKSqtyBi5u",
        "outputId": "1bccdea0-d70c-4e9e-acb1-816fd9d6e74f"
      },
      "execution_count": 5,
      "outputs": [
        {
          "output_type": "stream",
          "name": "stdout",
          "text": [
            "+---------------+--------------+-----------------+----------+\n",
            "|     ip_address|       Country|      Domain Name|Bytes_used|\n",
            "+---------------+--------------+-----------------+----------+\n",
            "|  52.81.192.172|         China| odnoklassniki.ru|       463|\n",
            "| 119.239.207.13|         China|         youtu.be|        51|\n",
            "|  68.69.217.210|         China|        adobe.com|        10|\n",
            "|   7.191.21.223|      Bulgaria|     linkedin.com|       853|\n",
            "|   211.13.10.68|     Indonesia|          hud.gov|        29|\n",
            "|   239.80.21.97|      Suriname|       smh.com.au|       218|\n",
            "|106.214.106.233|       Jamaica|    amazonaws.com|        95|\n",
            "| 127.242.24.138|         China| surveymonkey.com|       123|\n",
            "|     99.2.6.139|Czech Republic|     geocities.jp|       322|\n",
            "|   237.54.11.63|         China|       amazon.com|        83|\n",
            "| 252.141.157.25|         Japan|      cornell.edu|       374|\n",
            "|185.220.128.248|       Belgium|       weebly.com|       389|\n",
            "|   151.77.19.45|   Afghanistan|independent.co.uk|       282|\n",
            "|  9.161.158.225|     Indonesia|    bloglines.com|       726|\n",
            "| 156.144.61.155|Czech Republic|   slideshare.net|       657|\n",
            "|   8.96.188.151|     Indonesia|          ibm.com|       517|\n",
            "|      5.72.7.65|        Mexico|         youtu.be|       877|\n",
            "|227.110.112.144|       Croatia|         ehow.com|       287|\n",
            "|    81.71.28.97|      Thailand|          last.fm|       588|\n",
            "|  9.255.129.184|      Thailand|          mtv.com|       114|\n",
            "+---------------+--------------+-----------------+----------+\n",
            "only showing top 20 rows\n",
            "\n"
          ]
        }
      ]
    },
    {
      "cell_type": "markdown",
      "source": [
        "# Check if the country is Mexico - Add new y/n column"
      ],
      "metadata": {
        "id": "dPgOwYsLCOWP"
      }
    },
    {
      "cell_type": "code",
      "source": [
        "from pyspark.sql.functions import *"
      ],
      "metadata": {
        "id": "2q9WGnKuC07J"
      },
      "execution_count": 10,
      "outputs": []
    },
    {
      "cell_type": "code",
      "source": [
        "import pyspark.sql.functions as sqlfun"
      ],
      "metadata": {
        "id": "seVvJo8rIJv2"
      },
      "execution_count": 17,
      "outputs": []
    },
    {
      "cell_type": "code",
      "source": [
        "mydata = mydata.withColumn(\"from_mexico\", when(mydata.Country == 'Mexico', lit(\"yes\")).otherwise(lit(\"no\")))"
      ],
      "metadata": {
        "id": "MRmxibBWBi23"
      },
      "execution_count": 11,
      "outputs": []
    },
    {
      "cell_type": "code",
      "source": [
        "mydata.show()"
      ],
      "metadata": {
        "colab": {
          "base_uri": "https://localhost:8080/"
        },
        "id": "g-qMPzylBizj",
        "outputId": "b2d3590e-608e-4034-84af-30dcfe58aa76"
      },
      "execution_count": 12,
      "outputs": [
        {
          "output_type": "stream",
          "name": "stdout",
          "text": [
            "+---------------+--------------+-----------------+----------+-----------+\n",
            "|     ip_address|       Country|      Domain Name|Bytes_used|from_mexico|\n",
            "+---------------+--------------+-----------------+----------+-----------+\n",
            "|  52.81.192.172|         China| odnoklassniki.ru|       463|         no|\n",
            "| 119.239.207.13|         China|         youtu.be|        51|         no|\n",
            "|  68.69.217.210|         China|        adobe.com|        10|         no|\n",
            "|   7.191.21.223|      Bulgaria|     linkedin.com|       853|         no|\n",
            "|   211.13.10.68|     Indonesia|          hud.gov|        29|         no|\n",
            "|   239.80.21.97|      Suriname|       smh.com.au|       218|         no|\n",
            "|106.214.106.233|       Jamaica|    amazonaws.com|        95|         no|\n",
            "| 127.242.24.138|         China| surveymonkey.com|       123|         no|\n",
            "|     99.2.6.139|Czech Republic|     geocities.jp|       322|         no|\n",
            "|   237.54.11.63|         China|       amazon.com|        83|         no|\n",
            "| 252.141.157.25|         Japan|      cornell.edu|       374|         no|\n",
            "|185.220.128.248|       Belgium|       weebly.com|       389|         no|\n",
            "|   151.77.19.45|   Afghanistan|independent.co.uk|       282|         no|\n",
            "|  9.161.158.225|     Indonesia|    bloglines.com|       726|         no|\n",
            "| 156.144.61.155|Czech Republic|   slideshare.net|       657|         no|\n",
            "|   8.96.188.151|     Indonesia|          ibm.com|       517|         no|\n",
            "|      5.72.7.65|        Mexico|         youtu.be|       877|        yes|\n",
            "|227.110.112.144|       Croatia|         ehow.com|       287|         no|\n",
            "|    81.71.28.97|      Thailand|          last.fm|       588|         no|\n",
            "|  9.255.129.184|      Thailand|          mtv.com|       114|         no|\n",
            "+---------------+--------------+-----------------+----------+-----------+\n",
            "only showing top 20 rows\n",
            "\n"
          ]
        }
      ]
    },
    {
      "cell_type": "markdown",
      "source": [
        "## Check the sum of bytes used from mexico vs non mexico"
      ],
      "metadata": {
        "id": "NF9F7jJlHsdg"
      }
    },
    {
      "cell_type": "code",
      "source": [
        "mydata.groupby(\"from_mexico\").agg(sqlfun.sum(mydata.Bytes_used)).show()\n"
      ],
      "metadata": {
        "colab": {
          "base_uri": "https://localhost:8080/"
        },
        "id": "hQtgLumUBiwm",
        "outputId": "95b66b96-e058-4c6c-84a6-de1eae552b57"
      },
      "execution_count": 18,
      "outputs": [
        {
          "output_type": "stream",
          "name": "stdout",
          "text": [
            "+-----------+---------------+\n",
            "|from_mexico|sum(Bytes_used)|\n",
            "+-----------+---------------+\n",
            "|         no|       508076.0|\n",
            "|        yes|         6293.0|\n",
            "+-----------+---------------+\n",
            "\n"
          ]
        }
      ]
    },
    {
      "cell_type": "markdown",
      "source": [
        "## Group by country and get the unique no. of IP addresses within each country"
      ],
      "metadata": {
        "id": "q443kcC2Ib-Y"
      }
    },
    {
      "cell_type": "code",
      "source": [
        "d3 = mydata.groupBy(\"Country\").agg(sqlfun.countDistinct(mydata.ip_address).alias('number_of_ips'))\n",
        "d3.sort(col('number_of_ips').desc()).show()"
      ],
      "metadata": {
        "colab": {
          "base_uri": "https://localhost:8080/"
        },
        "id": "YU884j0YBite",
        "outputId": "28f13a7d-6593-431f-f8d5-4d840fd93047"
      },
      "execution_count": 21,
      "outputs": [
        {
          "output_type": "stream",
          "name": "stdout",
          "text": [
            "+--------------+-------------+\n",
            "|       Country|number_of_ips|\n",
            "+--------------+-------------+\n",
            "|         China|          172|\n",
            "|     Indonesia|          114|\n",
            "|   Philippines|           65|\n",
            "|        Russia|           56|\n",
            "|        Brazil|           35|\n",
            "|        Poland|           31|\n",
            "|        Sweden|           28|\n",
            "|         Japan|           25|\n",
            "|Czech Republic|           23|\n",
            "|      Portugal|           23|\n",
            "|        France|           21|\n",
            "|          Peru|           19|\n",
            "|      Colombia|           17|\n",
            "| United States|           15|\n",
            "|     Argentina|           14|\n",
            "|       Ukraine|           14|\n",
            "|        Mexico|           13|\n",
            "|      Thailand|           12|\n",
            "|       Nigeria|           11|\n",
            "|        Canada|           11|\n",
            "+--------------+-------------+\n",
            "only showing top 20 rows\n",
            "\n"
          ]
        }
      ]
    },
    {
      "cell_type": "code",
      "source": [],
      "metadata": {
        "id": "vS7i-WxUBioz"
      },
      "execution_count": null,
      "outputs": []
    },
    {
      "cell_type": "code",
      "source": [],
      "metadata": {
        "id": "6_OzDm4aBilO"
      },
      "execution_count": null,
      "outputs": []
    },
    {
      "cell_type": "code",
      "source": [],
      "metadata": {
        "id": "-zdoMkxYBiiS"
      },
      "execution_count": null,
      "outputs": []
    },
    {
      "cell_type": "code",
      "source": [],
      "metadata": {
        "id": "Y5WRxVgEBie6"
      },
      "execution_count": null,
      "outputs": []
    }
  ]
}